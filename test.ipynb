{
 "cells": [
  {
   "cell_type": "code",
   "execution_count": 1,
   "metadata": {},
   "outputs": [],
   "source": [
    "from sql_functions import SQL"
   ]
  },
  {
   "cell_type": "code",
   "execution_count": 2,
   "metadata": {},
   "outputs": [],
   "source": [
    "SQL(db=\"naver_movie\", user=\"naver\", password=\"naver\").read_table(table=\"movie\", \n",
    "                                                                columns=\"title, movie_rate, netizen_rate, netizen_count, \\\n",
    "                                                                        journalist_score, journalist_count, scope, playing_time, \\\n",
    "                                                                        opening_date, director, image\")"
   ]
  },
  {
   "cell_type": "code",
   "execution_count": 3,
   "metadata": {},
   "outputs": [
    {
     "data": {
      "text/plain": [
       "['director',\n",
       " 'enter_date',\n",
       " 'image',\n",
       " 'journalist_count',\n",
       " 'journalist_score',\n",
       " 'movie_rate',\n",
       " 'netizen_count',\n",
       " 'netizen_rate',\n",
       " 'opening_date',\n",
       " 'playing_time',\n",
       " 'scope',\n",
       " 'title']"
      ]
     },
     "execution_count": 3,
     "metadata": {},
     "output_type": "execute_result"
    }
   ],
   "source": [
    "SQL(db=\"naver_movie\", user=\"naver\", password=\"naver\").get_table_columns(\"movie\")"
   ]
  },
  {
   "cell_type": "code",
   "execution_count": null,
   "metadata": {},
   "outputs": [],
   "source": []
  }
 ],
 "metadata": {
  "interpreter": {
   "hash": "f292396c1bcad47c12a2806c1ea1d7da774a13ca23c98ae46e5930adcf650259"
  },
  "kernelspec": {
   "display_name": "Python 3.9.7 ('base')",
   "language": "python",
   "name": "python3"
  },
  "language_info": {
   "codemirror_mode": {
    "name": "ipython",
    "version": 3
   },
   "file_extension": ".py",
   "mimetype": "text/x-python",
   "name": "python",
   "nbconvert_exporter": "python",
   "pygments_lexer": "ipython3",
   "version": "3.9.7"
  },
  "orig_nbformat": 4
 },
 "nbformat": 4,
 "nbformat_minor": 2
}
